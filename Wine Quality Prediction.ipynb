{
  "nbformat": 4,
  "nbformat_minor": 0,
  "metadata": {
    "colab": {
      "provenance": [],
      "authorship_tag": "ABX9TyNNy+ObDkor7ErbdmmVeQAp",
      "include_colab_link": true
    },
    "kernelspec": {
      "name": "python3",
      "display_name": "Python 3"
    },
    "language_info": {
      "name": "python"
    }
  },
  "cells": [
    {
      "cell_type": "markdown",
      "metadata": {
        "id": "view-in-github",
        "colab_type": "text"
      },
      "source": [
        "<a href=\"https://colab.research.google.com/github/greeshma309/-Predicting-House-Prices-with-Linear-Regression/blob/main/Wine%20Quality%20Prediction.ipynb\" target=\"_parent\"><img src=\"https://colab.research.google.com/assets/colab-badge.svg\" alt=\"Open In Colab\"/></a>"
      ]
    },
    {
      "cell_type": "code",
      "execution_count": null,
      "metadata": {
        "id": "f-73Q3Z1N_CO"
      },
      "outputs": [],
      "source": [
        "import pandas as pd\n",
        "import numpy as np\n",
        "import matplotlib.pyplot as plt\n",
        "from sklearn.model_selection import train_test_split\n",
        "from sklearn.linear_model import LinearRegression\n",
        "from sklearn.metrics import mean_squared_error, r2_score\n",
        "# Load the dataset (replace 'your_dataset.csv' with the actual file\n",
        "path)\n",
        "data = pd.read_csv('your_dataset.csv')\n",
        "# Explore the dataset\n",
        "print(data.head())\n",
        "print(data.info())\n",
        "print(data.describe())\n",
        "# Handle missing values (if any)\n",
        "data.fillna(method='ffill', inplace=True) # Or use other appropriate\n",
        "methods\n",
        "# Select relevant features for prediction (adjust based on your\n",
        "dataset)\n",
        "X = data[['feature1', 'feature2', ...]] # Replace with your feature\n",
        "names\n",
        "y = data['house_price']\n",
        "# Split the data into training and testing sets\n",
        "X_train, X_test, y_train, y_test = train_test_split(X, y,\n",
        "test_size=0.2, random_state=42)\n",
        "# Create a linear regression model\n",
        "model = LinearRegression()\n",
        "# Train the model\n",
        "model.fit(X_train, y_train)\n",
        "# Make predictions on the testing set\n",
        "y_pred = model.predict(X_test)\n",
        "# Evaluate the model\n",
        "mse = mean_squared_error(y_test, y_pred)\n",
        "r2 = r2_score(y_test, y_pred)\n",
        "print(\"Mean Squared Error:\", mse)\n",
        "print(\"R-squared:\", r2)\n",
        "# Visualize the results (optional)\n",
        "plt.scatter(y_test, y_pred)\n",
        "plt.xlabel(\"Actual House Prices\")\n",
        "plt.ylabel(\"Predicted House Prices\")\n",
        "plt.title(\"Actual vs. Predicted House Prices\")\n",
        "plt.show()"
      ]
    },
    {
      "cell_type": "code",
      "source": [
        "import pandas as pd\n",
        "from sklearn.model_selection import train_test_split\n",
        "from sklearn.preprocessing import StandardScaler\n",
        "from sklearn.linear_model import LogisticRegression\n",
        "from sklearn.neighbors import KNeighborsClassifier\n",
        "from sklearn.tree import DecisionTreeClassifier\n",
        "from sklearn.metrics import accuracy_score, classification_report\n",
        "# Load the wine quality dataset\n",
        "data = pd.read_csv(\"winequality-red.csv\")\n",
        "# Separate features and target variable\n",
        "X = data.drop(\"quality\", axis=1)\n",
        "y = data[\"quality\"]\n",
        "# Split the dataset into training and testing sets\n",
        "X_train, X_test, y_train, y_test = train_test_split(X, y,\n",
        "test_size=0.2, random_state=42)\n",
        "# Standardize the features\n",
        "scaler = StandardScaler()\n",
        "X_train_scaled = scaler.fit_transform(X_train)\n",
        "X_test_scaled = scaler.transform(X_test)\n",
        "# Create and train the classifier models\n",
        "models = {\n",
        "\"Logistic Regression\": LogisticRegression(),\n",
        "\"K-Nearest Neighbors\": KNeighborsClassifier(n_neighbors=5),\n",
        "\"Decision Tree\": DecisionTreeClassifier()\n",
        "}\n",
        "for model_name, model in models.items():\n",
        "model.fit(X_train_scaled, y_train)\n",
        "y_pred = model.predict(X_test_scaled)\n",
        "# Evaluate the model's performance\n",
        "accuracy = accuracy_score(y_test, y_pred)\n",
        "report = classification_report(y_test, y_pred)\n",
        "print(f\"Model: {model_name}\")\n",
        "print(f\"Accuracy: {accuracy:.2f}\")\n",
        "print(report)\n",
        "print(\"\\n\")\n"
      ],
      "metadata": {
        "id": "gD-veRjlO5c-"
      },
      "execution_count": null,
      "outputs": []
    }
  ]
}